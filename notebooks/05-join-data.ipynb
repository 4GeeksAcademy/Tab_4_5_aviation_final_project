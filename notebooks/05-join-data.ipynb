{
 "cells": [
  {
   "cell_type": "code",
   "execution_count": 1,
   "id": "f53373b4",
   "metadata": {},
   "outputs": [
    {
     "name": "stdout",
     "output_type": "stream",
     "text": [
      "/workspaces/Tab_4_5_aviation_final_project\n"
     ]
    }
   ],
   "source": [
    "from pathlib import Path\n",
    "\n",
    "import pandas as pd\n",
    "import functions.data_acquisition as data_funcs\n",
    "\n",
    "\n",
    "%cd ..\n",
    "\n",
    "import src.configuration as config\n",
    "\n",
    "Path(config.RAW_DATA_DIRECTORY).mkdir(parents=True, exist_ok=True)\n",
    "Path(config.INTERIM_DATA_DIRECTORY).mkdir(parents=True, exist_ok=True)\n",
    "Path(config.PROCESSED_DATA_DIRECTORY).mkdir(parents=True, exist_ok=True)"
   ]
  },
  {
   "cell_type": "code",
   "execution_count": 2,
   "id": "e8eca718",
   "metadata": {},
   "outputs": [],
   "source": [
    "data_funcs.download_data(config.INCIDENT_DATA_URL, config.RAW_DATA_DIRECTORY, config.RAW_INCIDENTS_MDB_FILE)"
   ]
  },
  {
   "cell_type": "code",
   "execution_count": 3,
   "id": "a10675a4",
   "metadata": {},
   "outputs": [],
   "source": [
    "table=data_funcs.parse_mdb(config.RAW_INCIDENTS_MDB_FILE, config.RAW_INCIDENTS_CSV_FILE)"
   ]
  },
  {
   "cell_type": "code",
   "execution_count": null,
   "id": "bbd94f43",
   "metadata": {},
   "outputs": [],
   "source": [
    "import subprocess\n",
    "import pandas as pd\n",
    "import io\n",
    "import os\n",
    "\n",
    "mdb_file = \"/workspaces/Tab_4_5_aviation_final_project/data/raw/avall.mdb\"\n",
    "output_dir = \"/workspaces/Tab_4_5_aviation_final_project/data/processed\"\n",
    "\n",
    "# Ensure output directory exists\n",
    "os.makedirs(output_dir, exist_ok=True)\n",
    "\n",
    "# Step 1: List tables in the MDB file\n",
    "def list_tables(mdb_file):\n",
    "    result = subprocess.run([\"mdb-tables\", \"-1\", mdb_file], stdout=subprocess.PIPE, text=True)\n",
    "    tables = result.stdout.strip().split(\"\\n\")\n",
    "    tables = [t.strip() for t in tables if t.strip()]\n",
    "    print(f\"Found tables: {tables}\")\n",
    "    return tables\n",
    "\n",
    "# Step 2: Export and save each table to CSV\n",
    "def load_and_save_tables(mdb_file, tables, output_dir):\n",
    "    dataframes = {}\n",
    "    for table in tables:\n",
    "        print(f\"Exporting table: {table}\")\n",
    "        result = subprocess.run([\"mdb-export\", mdb_file, table], stdout=subprocess.PIPE, text=True)\n",
    "        csv_output = result.stdout\n",
    "        if csv_output.strip():  # Check if there's any data\n",
    "            try:\n",
    "                df = pd.read_csv(io.StringIO(csv_output))\n",
    "                dataframes[table] = df\n",
    "                csv_path = os.path.join(output_dir, f\"{table}.csv\")\n",
    "                df.to_csv(csv_path, index=False)\n",
    "                print(f\"Saved '{table}' to {csv_path} (shape={df.shape})\")\n",
    "            except Exception as e:\n",
    "                print(f\"Failed to read table {table}: {e}\")\n",
    "        else:\n",
    "            print(f\"Table {table} has no data.\")\n",
    "    return dataframes\n",
    "\n",
    "# Run the full process\n",
    "tables = list_tables(mdb_file)\n",
    "dataframes = load_and_save_tables(mdb_file, tables, output_dir)"
   ]
  },
  {
   "cell_type": "code",
   "execution_count": null,
   "id": "391c40e9",
   "metadata": {},
   "outputs": [],
   "source": [
    "import pandas as pd\n",
    "import os\n",
    "\n",
    "# Set directory and files to join\n",
    "input_dir = \"/workspaces/Tab_4_5_aviation_final_project/data/processed\"\n",
    "output_file = \"/workspaces/Tab_4_5_aviation_final_project/data/processed/combined_output.csv\"\n",
    "\n",
    "# Define CSV files and the common column to join on\n",
    "csv_files = [\n",
    "    (\"events\", \"ev_id\"),\n",
    "    (\"aircraft\", \"ev_id\"),\n",
    "    (\"injury\", \"ev_id\")\n",
    "]\n",
    "# ^ These are table names without the .csv extension; must exist in input_dir\n",
    "\n",
    "# Load the first file as the base DataFrame\n",
    "base_name, join_key = csv_files[0]\n",
    "base_df = pd.read_csv(os.path.join(input_dir, f\"{base_name}.csv\"))\n",
    "\n",
    "# Iteratively join with the other tables\n",
    "for table_name, join_col in csv_files[1:]:\n",
    "    df_to_join = pd.read_csv(os.path.join(input_dir, f\"{table_name}.csv\"))\n",
    "    print(f\"Joining {table_name} on {join_col}\")\n",
    "    base_df = pd.merge(base_df, df_to_join, on=join_col, how=\"left\")  # or \"inner\", \"outer\", etc.\n",
    "\n",
    "# Save combined DataFrame\n",
    "base_df.to_csv(output_file, index=False)\n",
    "print(f\"Combined DataFrame saved to: {output_file}\")"
   ]
  }
 ],
 "metadata": {
  "kernelspec": {
   "display_name": "Python 3",
   "language": "python",
   "name": "python3"
  },
  "language_info": {
   "codemirror_mode": {
    "name": "ipython",
    "version": 3
   },
   "file_extension": ".py",
   "mimetype": "text/x-python",
   "name": "python",
   "nbconvert_exporter": "python",
   "pygments_lexer": "ipython3",
   "version": "3.11.4"
  }
 },
 "nbformat": 4,
 "nbformat_minor": 5
}
